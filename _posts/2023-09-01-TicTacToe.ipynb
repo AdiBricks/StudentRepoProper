{
 "cells": [
  {
   "cell_type": "code",
   "execution_count": 1,
   "metadata": {},
   "outputs": [
    {
     "name": "stdout",
     "output_type": "stream",
     "text": [
      "TICTACTOE\n",
      "  |   |  \n",
      "---------\n",
      "  |   |  \n",
      "---------\n",
      "  |   |  \n",
      "---------\n",
      "Player X's turn\n"
     ]
    }
   ],
   "source": [
    "\n",
    "def print_board(board):\n",
    "  print(\"TICTACTOE\")\n",
    "  for row in board:\n",
    "    print(\" | \".join(row))\n",
    "    print(\"---------\")\n",
    "\n",
    "\n",
    "def check_winner(board, player):\n",
    "  for row in board:\n",
    "    if all(cell == player for cell in row):\n",
    "      return True\n",
    "  for col in range(3):\n",
    "    if all(board[row][col] == player for row in range(3)):\n",
    "      return True\n",
    "  if all(board[i][i] == player\n",
    "         for i in range(3)) or all(board[i][2 - i] == player\n",
    "                                   for i in range(3)):\n",
    "    return True\n",
    "  return False\n",
    "\n",
    "\n",
    "def is_board_full(board):\n",
    "  return all(cell != \" \" for row in board for cell in row)\n",
    "\n",
    "\n",
    "def play_game():\n",
    "  board = [[\" \" for _ in range(3)] for _ in range(3)]\n",
    "  current_player = \"X\"\n",
    "\n",
    "  while True:\n",
    "    print_board(board)\n",
    "    print(f\"Player {current_player}'s turn\")\n",
    "    \n",
    "    col = int(input(\"Enter column (0, 1, 2): \"))\n",
    "    while True:  \n",
    "      if col in (0, 1, 2):\n",
    "        break\n",
    "      else: \n",
    "        col = int(input(\"Enter column PROPERLY (0, 1, 2): \"))\n",
    "        \n",
    "    \n",
    "    row = int(input(\"Enter row (0, 1, 2): \"))\n",
    "    while True:  \n",
    "      if row in (0, 1, 2):\n",
    "        break\n",
    "      else: \n",
    "        row = int(input(\"Enter row PROPERLY (0, 1, 2): \"))\n",
    "        \n",
    "    if board[row][col] == \" \":\n",
    "      board[row][col] = current_player\n",
    "      if check_winner(board, current_player):\n",
    "        print_board(board)\n",
    "        print(f\"Player {current_player} wins!\")\n",
    "        break\n",
    "      elif is_board_full(board):\n",
    "        print_board(board)\n",
    "        print(\"It's a draw!\")\n",
    "        break\n",
    "      else:\n",
    "        current_player = \"O\" if current_player == \"X\" else \"X\"\n",
    "    else:\n",
    "      print(\"That cell is already occupied. Try again.\")\n",
    "      \n",
    "\n",
    "\n",
    "play_game()"
   ]
  }
 ],
 "metadata": {
  "kernelspec": {
   "display_name": "Python 3",
   "language": "python",
   "name": "python3"
  },
  "language_info": {
   "codemirror_mode": {
    "name": "ipython",
    "version": 3
   },
   "file_extension": ".py",
   "mimetype": "text/x-python",
   "name": "python",
   "nbconvert_exporter": "python",
   "pygments_lexer": "ipython3",
   "version": "3.10.12"
  },
  "orig_nbformat": 4
 },
 "nbformat": 4,
 "nbformat_minor": 2
}
