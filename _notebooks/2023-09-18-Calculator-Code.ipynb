{
 "cells": [
  {
   "cell_type": "markdown",
   "metadata": {},
   "source": [
    "---\n",
    "title: Calculator Game\n",
    "toc: true\n",
    "layout: post\n",
    "description: Calculate\n",
    "courses: { csp: {week: 4}}\n",
    "categories: [C4.0]\n",
    "type: hacks\n",
    "---"
   ]
  },
  {
   "cell_type": "code",
   "execution_count": 1,
   "metadata": {},
   "outputs": [
    {
     "name": "stdout",
     "output_type": "stream",
     "text": [
      "Calculator\n",
      "1 = Add\n",
      "2 = Subtract\n",
      "3 = Multiply\n",
      "4 = Divide\n",
      "11.0\n"
     ]
    }
   ],
   "source": [
    "#prints the options: Add, Subtract, Multiply, and Divide\n",
    "print(\"Calculator\")\n",
    "print(\"1 = Add\")\n",
    "print(\"2 = Subtract\")\n",
    "print(\"3 = Multiply\")\n",
    "print(\"4 = Divide\")\n",
    "#Asks you what operation you want to do.\n",
    "choice = int(input(\"Choose (1,2,3,4): \"))\n",
    "while choice not in [1, 2, 3, 4]:\n",
    "#if you dont choose any, then it will ask you to choose again. \n",
    "    print(\"Invalid choice. Please choose a number from 1 to 4.\")\n",
    "    choice = int(input(\"Choose (1,2,3,4): \"))\n",
    "#It will ask you for two numbers, and then based off of what you chose, it will do the operation. \n",
    "if choice == 1:\n",
    "    num1 = float(input(\"What's your first number? \"))\n",
    "    num2 = float(input(\"What's your second number? \"))\n",
    "    print(num1 + num2)  \n",
    "elif choice == 2:\n",
    "    num1 = float(input(\"What's your first number? \"))\n",
    "    num2 = float(input(\"What's your second number? \"))\n",
    "    print(num1 - num2)  \n",
    "elif choice == 3:\n",
    "    num1 = float(input(\"What's your first number? \"))\n",
    "    num2 = float(input(\"What's your second number? \"))\n",
    "    print(num1 * num2)  \n",
    "elif choice == 4:\n",
    "    num1 = float(input(\"What's your first number? \"))\n",
    "    num2 = float(input(\"What's your second number? \"))\n",
    "    if num2 == 0: \n",
    "        print(\"Error: Cannot divide by zero\")\n",
    "    else:\n",
    "        print(num1 / num2)"
   ]
  }
 ],
 "metadata": {
  "kernelspec": {
   "display_name": "Python 3",
   "language": "python",
   "name": "python3"
  },
  "language_info": {
   "codemirror_mode": {
    "name": "ipython",
    "version": 3
   },
   "file_extension": ".py",
   "mimetype": "text/x-python",
   "name": "python",
   "nbconvert_exporter": "python",
   "pygments_lexer": "ipython3",
   "version": "3.10.12"
  },
  "orig_nbformat": 4
 },
 "nbformat": 4,
 "nbformat_minor": 2
}
