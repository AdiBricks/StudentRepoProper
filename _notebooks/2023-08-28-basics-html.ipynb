{
 "cells": [
  {
   "cell_type": "markdown",
   "metadata": {},
   "source": [
    "---\n",
    "layout: post\n",
    "hide: True\n",
    "title: Basics of HTML Guide\n",
    "description: An introduction to basic HTML, and resources to learn more.\n",
    "type: ccc\n",
    "permalink: /basics/html\n",
    "\n",
    "---"
   ]
  },
  {
   "cell_type": "raw",
   "metadata": {},
   "source": [
    "{% include nav_basics.html %}\n"
   ]
  },
  {
   "cell_type": "code",
   "execution_count": 2,
   "metadata": {},
   "outputs": [],
   "source": [
    "\n",
    "### HEY! This is my python HTML code cell!\n",
    "#I have a working HTML code cell in a notebook based on the wireframe representation provided under HTML hacks (HTML Hack)\n"
   ]
  },
  {
   "cell_type": "code",
   "execution_count": 9,
   "metadata": {
    "vscode": {
     "languageId": "html"
    }
   },
   "outputs": [
    {
     "data": {
      "text/html": [
       "\n",
       "<h3>HTML: This is a Heading</h3>\n",
       "<p>This is a paragraph.</p>\n"
      ],
      "text/plain": [
       "<IPython.core.display.HTML object>"
      ]
     },
     "metadata": {},
     "output_type": "display_data"
    }
   ],
   "source": [
    "%%html\n",
    "\n",
    "<h3>HTML: This is a Heading</h3>\n",
    "<p>This is a paragraph.</p>"
   ]
  },
  {
   "cell_type": "markdown",
   "metadata": {},
   "source": [
    "# Attributes\n",
    "- Learn about [attributes](https://www.w3schools.com/html/html_attributes.asp) \n",
    "- Tags can have additional info in the form of attributes\n",
    "- Attributes usually come in name/value pairs like: name=\"value\"\n",
    "\n",
    "```html\n",
    "<tagname attribute_name=\"attribute_value\" another_attribute=\"another_value\">inner html text</tagname>\n",
    "```\n",
    "\n",
    "- href example with attribute for web link and inner html to describe link\n",
    "\n",
    "```html\n",
    "<a href=\"https://www.w3schools.com/html/default.asp\">Visit W3Schools HTML Page</a>\n",
    "```"
   ]
  },
  {
   "cell_type": "markdown",
   "metadata": {},
   "source": [
    "## Sample Markdown vs HTML Tags\n",
    "Image Tag - Markdown\n",
    "\n",
    "```md\n",
    "![describe image](link to image)\n",
    "```\n",
    "\n",
    "Image Tag - HTML\n",
    "\n",
    "```html\n",
    "<!-- no content so no end tag, width/height is optional (in pixels) -->\n",
    "<img alt=\"describe image\" src=\"link to image\" width=\"100\" height=\"200\">\n",
    "```\n",
    "\n",
    "Link Tag - Markdown\n",
    "\n",
    "```md\n",
    "[link text](link)\n",
    "```\n",
    "\n",
    "Link Tag - HTML\n",
    "\n",
    "```html\n",
    "<a href=\"link\">link text</a>\n",
    "```\n",
    "\n",
    "Bolded Text - Markdown\n",
    "\n",
    "```md\n",
    "**Bolded Text**\n",
    "```\n",
    "\n",
    "Bolded Text - HTML\n",
    "\n",
    "```md\n",
    "<strong>Bolded Text</strong>\n",
    "```\n",
    "\n",
    "Italic Text - Markdown\n",
    "\n",
    "```md\n",
    "*Italic Text*\n",
    "```\n",
    "\n",
    "Italic Text - HTML\n",
    "\n",
    "```md\n",
    "<i>Italic Text</i>\n",
    "```"
   ]
  },
  {
   "cell_type": "markdown",
   "metadata": {},
   "source": [
    "# More tags (not really in markdown)\n",
    "P tag (just represeants a paragraph/normal text)\n",
    "\n",
    "```html\n",
    "<p>This is a paragraph</p>\n",
    "```\n",
    "\n",
    "Button\n",
    "\n",
    "```html\n",
    "<button>some button text</button>\n",
    "```\n",
    "\n",
    "Div (groups together related content)\n",
    "\n",
    "```html\n",
    "<!-- first information -->\n",
    "<div>\n",
    "    <!-- notice how tags can be put INSIDE eachother -->\n",
    "    <p>This is the first paragarph of section 1</p>\n",
    "    <p>This is the second paragraph of section 1</p>\n",
    "</div>\n",
    "\n",
    "<!-- second information -->\n",
    "<div>\n",
    "    <!-- notice how tags can be put INSIDE eachother -->\n",
    "    <p>This is the first paragarph of section 2</p>\n",
    "    <p>This is the second paragraph of section 2</p>\n",
    "</div>\n",
    "```\n",
    "\n"
   ]
  },
  {
   "cell_type": "markdown",
   "metadata": {},
   "source": [
    "# Resources\n",
    "- https://www.w3schools.com/html/default.asp\n",
    "- I will show a demo of how to find information on this website"
   ]
  },
  {
   "cell_type": "markdown",
   "metadata": {},
   "source": [
    "# HTML Hacks\n",
    "- Below is a wireframe for an HTML element you will create. A wireframe is a rough visual representation of HTML elements on a page and isn't necessarily to scale or have the exact styling that the final HTML will have. Using the syntax above, try to create an HTML snippet that corresponds to the below wireframe.\n",
    "- The \"a tags\" can contain any links that you want\n",
    "\n",
    "![wireframe for html hacks]({{ site.baseurl }}/images/wireframe.png)"
   ]
  },
  {
   "cell_type": "markdown",
   "metadata": {},
   "source": [
    "<!DOCTYPE html>\n",
    "<html>\n",
    "<head>\n",
    "    <title>My Simple HTML Page</title>\n",
    "</head>\n",
    "<body>\n",
    "    <header>\n",
    "        <h1>Welcome to My Page</h1>\n",
    "    </header>\n",
    "    \n",
    "    <nav>\n",
    "        <ul>\n",
    "            <li><a href=\"#\">This page</a></li>\n",
    "        </ul>\n",
    "    </nav>\n",
    "    \n",
    "    <main>\n",
    "        <section id=\"section1\">\n",
    "            <h2>What is an advantage of Python over Java?</h2>\n",
    "            <p>Python is easier to look at and understand and has simpler syntax.</p>\n",
    "        </section>\n",
    "        \n",
    "        <section id=\"section2\">\n",
    "            <h2>What is an advantage of Java over Python?</h2>\n",
    "            <p>It compiles faster and is generally more efficient.</p>\n",
    "        </section>\n",
    "    </main>\n",
    "</body>\n",
    "</html>\n"
   ]
  },
  {
   "cell_type": "markdown",
   "metadata": {},
   "source": [
    "<!DOCTYPE html>\n",
    "<html>\n",
    "<head>\n",
    "    <title>HTML Example</title>\n",
    "</head>\n",
    "<body>\n",
    "    <h1>hello</h1>\n",
    "    <p>hows the day going?</p>\n",
    "    \n",
    "\n",
    "    \n",
    "    <!-- Link Tag - HTML -->\n",
    "    <a href=\"https://www.youtube.com/@Adi_R/videos\">Coolito Productions Youtube Channel</a>\n",
    "    \n",
    "\n",
    "    \n",
    "    <!-- Bolded Text - HTML -->\n",
    "    <strong>Button Below Does Nothing</strong>\n",
    "  \n",
    "    \n",
    "    <!-- Italic Text - HTML -->\n",
    "    <i>YES. NOTHING.</i>\n",
    "    \n",
    "    <!-- P tag (represents a paragraph/normal text) -->\n",
    "    <p>Yeah...</p>\n",
    "    \n",
    "    <!-- Button -->\n",
    "    <button>This button does nothing</button>\n",
    "    \n",
    "    <!-- Div (groups together related content) -->\n",
    "    <!-- First Fact -->\n",
    "    <div>\n",
    "        <!-- FactOne -->\n",
    "        <p>Random Math Fact: 2 + 2 = 4</p>\n",
    "    </div>\n",
    "\n",
    "    <!-- Second Fact -->\n",
    "    <div>\n",
    "        <!-- FactTwo -->\n",
    "        <p>Random Math Fact: 7 x 8 = 56</p>\n",
    "    </div>\n",
    "</body>\n",
    "</html>\n"
   ]
  }
 ],
 "metadata": {
  "kernelspec": {
   "display_name": "Python 3",
   "language": "python",
   "name": "python3"
  },
  "language_info": {
   "codemirror_mode": {
    "name": "ipython",
    "version": 3
   },
   "file_extension": ".py",
   "mimetype": "text/x-python",
   "name": "python",
   "nbconvert_exporter": "python",
   "pygments_lexer": "ipython3",
   "version": "3.10.12"
  },
  "orig_nbformat": 4
 },
 "nbformat": 4,
 "nbformat_minor": 2
}
