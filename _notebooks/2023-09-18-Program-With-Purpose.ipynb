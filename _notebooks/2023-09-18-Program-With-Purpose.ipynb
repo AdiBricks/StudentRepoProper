{
 "cells": [
  {
   "cell_type": "markdown",
   "metadata": {},
   "source": [
    "---\n",
    "title: Program with Purpose\n",
    "toc: true\n",
    "layout: post\n",
    "description: Program with Purpose\n",
    "courses: { csp: {week: 4}}\n",
    "categories: [C4.0]\n",
    "type: hacks\n",
    "---"
   ]
  },
  {
   "cell_type": "code",
   "execution_count": 1,
   "metadata": {},
   "outputs": [
    {
     "name": "stdout",
     "output_type": "stream",
     "text": [
      "The perimeter of the rectangle is: 18.0\n",
      "The area of the rectangle is: 20.0\n"
     ]
    }
   ],
   "source": [
    "#input the length and the width\n",
    "length = float(input(\"Enter the length of the rectangle: \"))\n",
    "width = float(input(\"Enter the width of the rectangle: \"))\n",
    "#calculates perimeter\n",
    "perimeter = 2 * (length + width)\n",
    "#calculates area\n",
    "area = length * width\n",
    "\n",
    "print(\"The perimeter of the rectangle is:\", perimeter)\n",
    "print(\"The area of the rectangle is:\", area)"
   ]
  }
 ],
 "metadata": {
  "kernelspec": {
   "display_name": "Python 3",
   "language": "python",
   "name": "python3"
  },
  "language_info": {
   "codemirror_mode": {
    "name": "ipython",
    "version": 3
   },
   "file_extension": ".py",
   "mimetype": "text/x-python",
   "name": "python",
   "nbconvert_exporter": "python",
   "pygments_lexer": "ipython3",
   "version": "3.10.12"
  },
  "orig_nbformat": 4
 },
 "nbformat": 4,
 "nbformat_minor": 2
}
