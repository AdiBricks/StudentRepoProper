{
 "cells": [
  {
   "cell_type": "markdown",
   "metadata": {},
   "source": [
    "---\n",
    "title: Program with Purpose\n",
    "toc: true\n",
    "layout: post\n",
    "description: Program with Purpose\n",
    "courses: { csp: {week: 4}}\n",
    "categories: [C4.0]\n",
    "type: hacks\n",
    "---"
   ]
  },
  {
   "cell_type": "code",
   "execution_count": null,
   "metadata": {},
   "outputs": [],
   "source": [
    "#input the length and the width\n",
    "length = float(input(\"Enter the length of the rectangle: \"))\n",
    "width = float(input(\"Enter the width of the rectangle: \"))\n",
    "#calculates perimeter\n",
    "perimeter = 2 * (length + width)\n",
    "#calculates area\n",
    "area = length * width\n",
    "\n",
    "print(\"The perimeter of the rectangle is:\", perimeter)\n",
    "print(\"The area of the rectangle is:\", area)"
   ]
  }
 ],
 "metadata": {
  "language_info": {
   "name": "python"
  },
  "orig_nbformat": 4
 },
 "nbformat": 4,
 "nbformat_minor": 2
}
