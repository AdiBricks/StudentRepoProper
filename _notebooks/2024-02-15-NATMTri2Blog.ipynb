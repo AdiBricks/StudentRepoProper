{
 "cells": [
  {
   "cell_type": "markdown",
   "metadata": {},
   "source": [
    "---\n",
    "toc: false\n",
    "comments: True\n",
    "layout: post\n",
    "title: NATMTri2 Blog\n",
    "description: Blog from Night at the Museum Tri 2\n",
    "type: tangibles\n",
    "courses: { csp: {week: 15} }\n",
    "---"
   ]
  },
  {
   "cell_type": "markdown",
   "metadata": {},
   "source": [
    "Blog / article on you and team\n",
    "\n",
    "reflection on glows/grows from your demo,\n",
    "from feedback, something you will add to individual CPT project\n",
    "visuals or pics of team and people you talked\n",
    "Blog on event\n",
    "\n",
    "something you saw in CompSci that impressed\n",
    "something you saw outside of CompSci that you liked"
   ]
  }
 ],
 "metadata": {
  "language_info": {
   "name": "python"
  }
 },
 "nbformat": 4,
 "nbformat_minor": 2
}
