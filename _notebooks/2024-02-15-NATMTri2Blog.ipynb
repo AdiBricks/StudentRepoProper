{
 "cells": [
  {
   "cell_type": "markdown",
   "metadata": {},
   "source": [
    "---\n",
    "toc: false\n",
    "comments: True\n",
    "layout: post\n",
    "title: NATMTri2 Blog\n",
    "description: Blog from Night at the Museum Tri 2\n",
    "type: tangibles\n",
    "courses: { csp: {week: 15} }\n",
    "---"
   ]
  },
  {
   "cell_type": "markdown",
   "metadata": {},
   "source": [
    "Blog / article on you and team\n",
    "\n",
    "reflection on glows/grows from your demo,\n",
    "from feedback, something you will add to individual CPT project\n",
    "visuals or pics of team and people you talked\n",
    "Blog on event\n",
    "\n",
    "something you saw in CompSci that impressed\n",
    "something you saw outside of CompSci that you liked"
   ]
  },
  {
   "cell_type": "markdown",
   "metadata": {},
   "source": [
    "\n",
    "### Blog/Article: N@M Event Reflection\n",
    "\n",
    "#### Introduction:\n",
    "Our team did not present this time around, since we need another backend feature to qualify. However, we had a strong enough frontend to give us more time till finals, to add the last backend feature. At the time of writing, we we're able to get the backend ready (since we had an extra day), a working frontend, and need to merge the two. \n",
    "\n",
    "So aside from the 'Login' and a 'sign in to play', we are working to finish a likes API, where people can favorite their favorite games. \n",
    "\n",
    "#### Glows and Growths:\n",
    "We did not present this time around, but I can still talk about some of the strengths and weaknesses on our project as a whole.  We had everything on our original plan done by qualifications, but still had to work on the final project. The main thing we couldve worked on would be to make cooler css. We had the same css on every game page, but it couldve looked better\n",
    "\n",
    "#### Individual CPT Project Plans:\n",
    "We didnt get any direct feedback, but I plan to add a few more things to make our wesbite cooler. I'll be working consistently over the break in order to make sure the project looks great, especially since we needed more time. \n",
    "\n",
    "# Visuals or Pics of Team and People you talked\n",
    "We saw lots of impressive things at Night at the Museum. In CSP, there were a ton of cool projects form different friends of mine. And also, there were some other great projects at 3D animation. Pics attached below: \n",
    "\n"
   ]
  },
  {
   "cell_type": "code",
   "execution_count": null,
   "metadata": {
    "vscode": {
     "languageId": "html"
    }
   },
   "outputs": [],
   "source": [
    "<div class=\"images\">\n",
    "    <div class=\"image\">\n",
    "        <img src=\"../images/natmpic.webp\" alt=\"antm2\" onclick=\"window.location.href='';\">\n",
    "    </div>\n",
    "    <div class=\"image\">\n",
    "        <img src=\"../images/natmpic2.webp\" alt=\"natm1\" onclick=\"window.location.href='';\">\n",
    "    </div>\n",
    "    <div class=\"image\">\n",
    "        <img src=\"../images/natmpci3.webp\" alt=\"Natm3\" onclick=\"window.location.href='';\">\n",
    "    </div>\n",
    "    <div class=\"image\">\n",
    "        <img src=\"../images/natmpci4.webp\" alt=\"2BNatm4\" onclick=\"window.location.href='';\">\n",
    "    </div>\n",
    "</div>\n"
   ]
  }
 ],
 "metadata": {
  "language_info": {
   "name": "python"
  }
 },
 "nbformat": 4,
 "nbformat_minor": 2
}
