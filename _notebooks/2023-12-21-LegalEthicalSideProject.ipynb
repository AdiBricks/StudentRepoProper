{
 "cells": [
  {
   "cell_type": "markdown",
   "metadata": {},
   "source": [
    "---\n",
    "toc: true\n",
    "comments: false\n",
    "layout: post\n",
    "title: LEGAL ETHICAL EC\n",
    "description: made since the other file was in md instead of ipynb\n",
    "type: hacks\n",
    "courses: { csp: {week: 17} }\n",
    "---"
   ]
  },
  {
   "cell_type": "code",
   "execution_count": 1,
   "metadata": {},
   "outputs": [
    {
     "name": "stdout",
     "output_type": "stream",
     "text": [
      "Ethical Use and Citation: Unauthorized use of someone else's work is plagiarism. Legal utilization involves seeking permission from the creator and providing proper citation.\n"
     ]
    }
   ],
   "source": [
    "import random\n",
    "\n",
    "def ownership_and_licensing():\n",
    "    return \"Ownership and Licensing: Creations on a computer are owned by the creator or organization. Licensing options include Creative Commons, open source, and open access.\"\n",
    "\n",
    "def ethical_use_and_citation():\n",
    "    return \"Ethical Use and Citation: Unauthorized use of someone else's work is plagiarism. Legal utilization involves seeking permission from the creator and providing proper citation.\"\n",
    "\n",
    "def broad_access_to_digital_information():\n",
    "    return \"Broad Access to Digital Information: Initiatives like Creative Commons, open source, and open access contribute to widespread access to digital content.\"\n",
    "\n",
    "def legal_and_ethical_implications_of_computing():\n",
    "    return \"Legal and Ethical Implications of Computing: Computing has legal and ethical considerations, especially in social and political contexts. The digital divide raises ethical concerns about unequal access to technology.\"\n",
    "\n",
    "def intellectual_property_and_copyright_protection():\n",
    "    return \"Intellectual Property and Copyright Protection: Intellectual Property (IP) is protected by copyright, ensuring exclusive usage rights. Copyright requires permission for use.\"\n",
    "\n",
    "def consequences_of_violations():\n",
    "    return \"Consequences of Violations: Plagiarism and copyright violations can lead to legal consequences. Legal avenues for using others' work include licenses such as Creative Commons, open source, and open access.\"\n",
    "\n",
    "def main():\n",
    "    concerns_functions = [\n",
    "        ownership_and_licensing,\n",
    "        ethical_use_and_citation,\n",
    "        broad_access_to_digital_information,\n",
    "        legal_and_ethical_implications_of_computing,\n",
    "        intellectual_property_and_copyright_protection,\n",
    "        consequences_of_violations,\n",
    "    ]\n",
    "\n",
    "    random_concern = random.choice(concerns_functions)\n",
    "    print(random_concern())\n",
    "\n",
    "if __name__ == \"__main__\":\n",
    "    main()\n"
   ]
  }
 ],
 "metadata": {
  "kernelspec": {
   "display_name": "Python 3",
   "language": "python",
   "name": "python3"
  },
  "language_info": {
   "codemirror_mode": {
    "name": "ipython",
    "version": 3
   },
   "file_extension": ".py",
   "mimetype": "text/x-python",
   "name": "python",
   "nbconvert_exporter": "python",
   "pygments_lexer": "ipython3",
   "version": "3.10.12"
  },
  "orig_nbformat": 4
 },
 "nbformat": 4,
 "nbformat_minor": 2
}
