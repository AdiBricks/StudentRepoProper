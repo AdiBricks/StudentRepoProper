{
 "cells": [
  {
   "cell_type": "code",
   "execution_count": 6,
   "metadata": {},
   "outputs": [
    {
     "ename": "ModuleNotFoundError",
     "evalue": "No module named 'requests'",
     "output_type": "error",
     "traceback": [
      "\u001b[0;31m---------------------------------------------------------------------------\u001b[0m",
      "\u001b[0;31mModuleNotFoundError\u001b[0m                       Traceback (most recent call last)",
      "\u001b[0;32m/tmp/ipykernel_796/1903077543.py\u001b[0m in \u001b[0;36m<module>\u001b[0;34m\u001b[0m\n\u001b[0;32m----> 1\u001b[0;31m \u001b[0;32mimport\u001b[0m \u001b[0mrequests\u001b[0m\u001b[0;34m\u001b[0m\u001b[0;34m\u001b[0m\u001b[0m\n\u001b[0m\u001b[1;32m      2\u001b[0m \u001b[0;34m\u001b[0m\u001b[0m\n\u001b[1;32m      3\u001b[0m \u001b[0;31m# Replace 'YOUR_API_KEY' with your actual API key\u001b[0m\u001b[0;34m\u001b[0m\u001b[0;34m\u001b[0m\u001b[0m\n\u001b[1;32m      4\u001b[0m \u001b[0mapi_key\u001b[0m \u001b[0;34m=\u001b[0m \u001b[0;34m'0152e147eeb140d280943934230609'\u001b[0m\u001b[0;34m\u001b[0m\u001b[0;34m\u001b[0m\u001b[0m\n\u001b[1;32m      5\u001b[0m \u001b[0;34m\u001b[0m\u001b[0m\n",
      "\u001b[0;31mModuleNotFoundError\u001b[0m: No module named 'requests'"
     ]
    }
   ],
   "source": [
    "import requests\n",
    "\n",
    "# Replace 'YOUR_API_KEY' with your actual API key\n",
    "api_key = '0152e147eeb140d280943934230609'\n",
    "\n",
    "def get_weather(state):\n",
    "   base_url = 'https://api.weather.com/v3/weather/current'\n",
    "   params = {\n",
    "       'apiKey': api_key,\n",
    "       'format': 'json',\n",
    "       'language': 'en-US',\n",
    "       'location': state,\n",
    "   }\n",
    "\n",
    "   response = requests.get(base_url, params=params)\n",
    "\n",
    "   if response.status_code == 200:\n",
    "       data = response.json()\n",
    "       weather = data['imperial']['temp']\n",
    "       return f\"The current temperature in {state} is {weather}°F.\"\n",
    "   else:\n",
    "       return f\"Error: Unable to fetch weather data for {state}.\"\n",
    "\n",
    "# Get user input for the state\n",
    "state = input(\"Enter a US state (e.g., New York): \")\n",
    "\n",
    "# Call the get_weather function with user input\n",
    "result = get_weather(state)\n",
    "print(result)\n"
   ]
  }
 ],
 "metadata": {
  "kernelspec": {
   "display_name": "Python 3",
   "language": "python",
   "name": "python3"
  },
  "language_info": {
   "codemirror_mode": {
    "name": "ipython",
    "version": 3
   },
   "file_extension": ".py",
   "mimetype": "text/x-python",
   "name": "python",
   "nbconvert_exporter": "python",
   "pygments_lexer": "ipython3",
   "version": "3.10.12"
  },
  "orig_nbformat": 4
 },
 "nbformat": 4,
 "nbformat_minor": 2
}
