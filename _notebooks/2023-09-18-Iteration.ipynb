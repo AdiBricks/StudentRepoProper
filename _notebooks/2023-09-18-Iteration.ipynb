{
 "cells": [
  {
   "cell_type": "markdown",
   "metadata": {},
   "source": [
    "---\n",
    "title: Iteration Game\n",
    "layout: post\n",
    "description: Iteration\n",
    "courses: { csp: {week: 4}}\n",
    "categories: [C4.0]\n",
    "type: hacks\n",
    "---"
   ]
  },
  {
   "cell_type": "code",
   "execution_count": null,
   "metadata": {},
   "outputs": [],
   "source": [
    "i = 1\n",
    "n = input(\"1 to what number? \")\n",
    "if i < int(n):\n",
    "  while i < int(n):\n",
    "    print(i)\n",
    "    i = i + 1\n",
    "  print(i)\n",
    "\n",
    "while i > int(n):\n",
    "  print(i)\n",
    "  i = i - 1\n",
    "\n",
    "if i >= 100:\n",
    "  print(\"thats a lot of numbers\")\n",
    "elif i >= 1000:\n",
    "  print(\"thats a huge amount of numbers\")\n",
    "elif i <= 100:\n",
    "  print(\"\")\n",
    "else:\n",
    "  print(\"thats WAY TOO MANY numbers\")\n"
   ]
  }
 ],
 "metadata": {
  "language_info": {
   "name": "python"
  },
  "orig_nbformat": 4
 },
 "nbformat": 4,
 "nbformat_minor": 2
}
