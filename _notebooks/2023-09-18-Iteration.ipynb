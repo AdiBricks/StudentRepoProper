{
 "cells": [
  {
   "cell_type": "markdown",
   "metadata": {},
   "source": [
    "---\n",
    "title: Iteration Game\n",
    "layout: post\n",
    "description: Iteration\n",
    "courses: { csp: {week: 4}}\n",
    "categories: [C4.0]\n",
    "type: hacks\n",
    "---"
   ]
  },
  {
   "cell_type": "code",
   "execution_count": 1,
   "metadata": {},
   "outputs": [
    {
     "name": "stdout",
     "output_type": "stream",
     "text": [
      "1\n",
      "2\n",
      "3\n",
      "4\n",
      "5\n",
      "6\n",
      "\n"
     ]
    }
   ],
   "source": [
    "i = 1\n",
    "n = input(\"1 to what number? \")\n",
    "if i < int(n):\n",
    "  while i < int(n):\n",
    "    print(i)\n",
    "    i = i + 1\n",
    "  print(i)\n",
    "\n",
    "while i > int(n):\n",
    "  print(i)\n",
    "  i = i - 1\n",
    "\n",
    "if i >= 100:\n",
    "  print(\"thats a lot of numbers\")\n",
    "elif i >= 1000:\n",
    "  print(\"thats a huge amount of numbers\")\n",
    "elif i <= 100:\n",
    "  print(\"\")\n",
    "else:\n",
    "  print(\"thats WAY TOO MANY numbers\")\n"
   ]
  }
 ],
 "metadata": {
  "kernelspec": {
   "display_name": "Python 3",
   "language": "python",
   "name": "python3"
  },
  "language_info": {
   "codemirror_mode": {
    "name": "ipython",
    "version": 3
   },
   "file_extension": ".py",
   "mimetype": "text/x-python",
   "name": "python",
   "nbconvert_exporter": "python",
   "pygments_lexer": "ipython3",
   "version": "3.10.12"
  },
  "orig_nbformat": 4
 },
 "nbformat": 4,
 "nbformat_minor": 2
}
