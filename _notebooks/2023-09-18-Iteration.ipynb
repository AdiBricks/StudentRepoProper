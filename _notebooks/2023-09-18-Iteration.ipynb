{
 "cells": [
  {
   "cell_type": "markdown",
   "metadata": {},
   "source": [
    "---\n",
    "title: Iteration Game\n",
    "toc: true\n",
    "layout: post\n",
    "description: Iteration\n",
    "courses: { csp: {week: 4}}\n",
    "categories: [C4.0]\n",
    "type: hacks\n",
    "---"
   ]
  },
  {
   "cell_type": "code",
   "execution_count": 5,
   "metadata": {},
   "outputs": [
    {
     "name": "stdout",
     "output_type": "stream",
     "text": [
      "1\n",
      "2\n",
      "3\n",
      "4\n",
      "5\n",
      "6\n",
      "7\n",
      "8\n",
      "9\n",
      "10\n",
      "11\n",
      "12\n",
      "13\n",
      "14\n",
      "15\n",
      "16\n",
      "17\n"
     ]
    }
   ],
   "source": [
    "i = 1\n",
    "n = input(\"1 to what number? \")\n",
    "#if your number is greater than 1, the code will print the number, add 1, print that, add1 again, and and follow that proccess till you hit that number. \n",
    "if i < int(n):\n",
    "  while i < int(n):\n",
    "    print(i)\n",
    "    i = i + 1\n",
    "  print(i)\n",
    "#In the scenario that the number given is negative or smaller than 1, this code prints whats above, just backward, subtracting 1 at a timeinstead of adding 1. \n",
    "while i > int(n):\n",
    "  print(i)\n",
    "  i = i - 1\n",
    "#If there are greater than or equal to 100 numbers, then it prints out a message saying \"thats a lot of numbers\"\n",
    "if i >= 100:\n",
    "  print(\"thats a lot of numbers\")"
   ]
  }
 ],
 "metadata": {
  "kernelspec": {
   "display_name": "Python 3",
   "language": "python",
   "name": "python3"
  },
  "language_info": {
   "codemirror_mode": {
    "name": "ipython",
    "version": 3
   },
   "file_extension": ".py",
   "mimetype": "text/x-python",
   "name": "python",
   "nbconvert_exporter": "python",
   "pygments_lexer": "ipython3",
   "version": "3.10.12"
  },
  "orig_nbformat": 4
 },
 "nbformat": 4,
 "nbformat_minor": 2
}
